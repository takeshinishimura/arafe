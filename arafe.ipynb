{
  "nbformat": 4,
  "nbformat_minor": 0,
  "metadata": {
    "colab": {
      "provenance": [],
      "authorship_tag": "ABX9TyNt30m49Iujy0hv1tbQQiSc",
      "include_colab_link": true
    },
    "kernelspec": {
      "name": "python3",
      "display_name": "Python 3"
    },
    "language_info": {
      "name": "python"
    }
  },
  "cells": [
    {
      "cell_type": "markdown",
      "metadata": {
        "id": "view-in-github",
        "colab_type": "text"
      },
      "source": [
        "<a href=\"https://colab.research.google.com/github/takeshinishimura/arafe/blob/main/arafe.ipynb\" target=\"_parent\"><img src=\"https://colab.research.google.com/assets/colab-badge.svg\" alt=\"Open In Colab\"/></a>"
      ]
    },
    {
      "cell_type": "code",
      "source": [
        "import pandas as pd\n",
        "import numpy as np\n",
        "from google.colab import files\n",
        "\n",
        "# ファイルのアップロード\n",
        "uploaded = files.upload()\n",
        "file_name = list(uploaded.keys())[0]\n",
        "\n",
        "d1 = pd.read_csv(file_name, sep=\",\", dtype=str)\n",
        "\n",
        "d1 = d1.iloc[:, 1:]\n",
        "d2 = pd.DataFrame()\n",
        "\n",
        "# 行ごとにデータを処理して新しいデータフレームに追加\n",
        "for index, row in d1.iterrows():\n",
        "    score_name = row[0]\n",
        "    num_columns = len(row)\n",
        "    data_to_add = []\n",
        "\n",
        "    # 列ごとにデータを処理してリストに追加\n",
        "    for i in range(0, num_columns, 5):\n",
        "        if i + 5 < num_columns:\n",
        "            report_number = row[i + 1]\n",
        "            acceptance = row[i + 2]\n",
        "            clarity = row[i + 3]\n",
        "            significance = row[i + 4]\n",
        "            achievement = row[i + 5]\n",
        "\n",
        "            if pd.isna(report_number):\n",
        "                break\n",
        "\n",
        "            data_to_add.append([score_name, report_number, acceptance, clarity, significance, achievement])\n",
        "\n",
        "    # 新しいデータフレームにデータを追加\n",
        "    d2 = pd.concat([d2, pd.DataFrame(data_to_add, columns=['採点者名', '報告番号', '個別報告論文の採択の見込み', '報告の明解さ', '研究内容の意義', '研究内容の達成度'])], ignore_index=True)\n",
        "\n",
        "# 合計列を追加\n",
        "d2['合計'] = d2[['報告の明解さ', '研究内容の意義', '研究内容の達成度']].astype(float).sum(axis=1)\n",
        "\n",
        "# 報告番号のユニークな値を取得\n",
        "No = d2['報告番号'].unique()\n",
        "\n",
        "# 平均列を持つデータフレームを作成\n",
        "d3 = pd.DataFrame({'No': No, '平均': None})\n",
        "\n",
        "for i in No:\n",
        "    d3.loc[d3['No'] == i, '平均'] = round(d2[d2['報告番号'] == i]['合計'].mean(), 1)\n",
        "\n",
        "d3 = d3.sort_values(by='平均', ascending=False)\n",
        "\n",
        "# 集計結果のデータフレームを作成\n",
        "result = pd.DataFrame(columns=d2.columns.tolist() + ['平均'])\n",
        "\n",
        "for i in d3['No']:\n",
        "    result = pd.concat([result, d2[d2['報告番号'] == i]], ignore_index=True)\n",
        "result['平均'] = d3.set_index('No')['平均'].loc[result['報告番号'].values].values\n",
        "\n",
        "result"
      ],
      "metadata": {
        "id": "hxYBkPFaA70_"
      },
      "execution_count": null,
      "outputs": []
    }
  ]
}